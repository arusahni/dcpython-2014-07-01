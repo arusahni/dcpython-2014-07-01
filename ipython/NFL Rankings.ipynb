{
 "metadata": {
  "name": "NFL Rankings"
 },
 "nbformat": 3,
 "nbformat_minor": 0,
 "worksheets": [
  {
   "cells": [
    {
     "cell_type": "heading",
     "level": 1,
     "metadata": {},
     "source": [
      "Ranking NFL Teams"
     ]
    },
    {
     "cell_type": "code",
     "collapsed": false,
     "input": [
      "import os\n",
      "import dateutil\n",
      "import json\n",
      "import networkx as nx # read it in with NX\n",
      "import igraph as ig   # process it in Igraph\n",
      "import numpy as np\n",
      "import pandas as pd\n",
      "import statsmodels.api as sm\n",
      "import scipy.stats as sps\n",
      "from sklearn import linear_model\n",
      "from patsy import dmatrices, dmatrix"
     ],
     "language": "python",
     "metadata": {},
     "outputs": [],
     "prompt_number": 40
    },
    {
     "cell_type": "heading",
     "level": 2,
     "metadata": {},
     "source": [
      "Data"
     ]
    },
    {
     "cell_type": "markdown",
     "metadata": {},
     "source": [
      "We're going to download our NFL data from [Armchair Analysis](http://armchairanalysis.com/nfl-play-by-play-data.php)."
     ]
    },
    {
     "cell_type": "code",
     "collapsed": false,
     "input": [
      "!mkdir -p data\n",
      "if not os.path.exists('data/NFL_Data_Historical.zip'):\n",
      "    !curl -o \"data/#1\" http://armchairanalysis.com/{NFL_Data_Historical.zip}\n",
      "if not os.path.exists('data/GAMES.csv'):\n",
      "    !unzip -d data data/NFL_Data_Historical.zip"
     ],
     "language": "python",
     "metadata": {},
     "outputs": [],
     "prompt_number": 2
    },
    {
     "cell_type": "code",
     "collapsed": false,
     "input": [
      "armchair_games = pd.read_csv('data/GAMES.csv', index_col=0)"
     ],
     "language": "python",
     "metadata": {},
     "outputs": [],
     "prompt_number": 3
    },
    {
     "cell_type": "markdown",
     "metadata": {},
     "source": [
      "The 2012 games are not included, so we'll need to append them. This is kind of a mess because the Pro Football Reference data are weird."
     ]
    },
    {
     "cell_type": "code",
     "collapsed": false,
     "input": [
      "games2012 = pd.read_csv('data/nfl2012.csv')\n",
      "teams = sorted(armchair_games['H'].unique())\n",
      "# These just happen to line up except for Seattle/SF\n",
      "team_names = {name: team for name, team in zip(sorted(games2012['Loser'].unique()), teams)}\n",
      "team_names['San Francisco 49ers'] = 'SF'\n",
      "team_names['Seattle Seahawks'] = 'SEA'\n",
      "\n",
      "games2012['H'] = games2012.apply(lambda x: x['Loser'] if x['Unnamed: 5'] == '@' else x['Winner'] , axis=1)\n",
      "games2012['V'] = games2012.apply(lambda x: x['Winner'] if x['Unnamed: 5'] == '@' else x['Loser'] , axis=1)\n",
      "games2012['H'] = games2012['H'].apply(team_names.get)\n",
      "games2012['V'] = games2012['V'].apply(team_names.get)\n",
      "\n",
      "games2012['PTSH'] = games2012.apply(lambda x: x['PtsL'] if x['Unnamed: 5'] == '@' else x['PtsW'] , axis=1)\n",
      "games2012['PTSV'] = games2012.apply(lambda x: x['PtsW'] if x['Unnamed: 5'] == '@' else x['PtsL'] , axis=1)\n",
      "games2012['SEAS'] = 2012\n",
      "max_gid = int(armchair_games.index.astype(int).max())\n",
      "games2012.index = range(max_gid+1, max_gid+1+games2012.shape[0])\n",
      "games2012.index.name = 'GID'\n",
      "games2012 = games2012.rename(columns={'Week': 'WEEK'})[['SEAS', 'WEEK', 'H', 'V', 'PTSH', 'PTSV']]\n",
      "\n",
      "games = pd.concat([armchair_games, games2012])\n",
      "games.to_csv('web/all.games.csv')"
     ],
     "language": "python",
     "metadata": {},
     "outputs": [],
     "prompt_number": 4
    },
    {
     "cell_type": "markdown",
     "metadata": {},
     "source": [
      "These utility functions willl transform a Pandas dataframe into either a graph, a matrix, or a set of model matrices for using a Statsmodels/Sklearn supervised model."
     ]
    },
    {
     "cell_type": "code",
     "collapsed": false,
     "input": [
      "teams = sorted(games['H'].unique())\n",
      "team_ids = {team: i for i, team in enumerate(teams)}\n",
      "\n",
      "def make_graph(df):\n",
      "    \"\"\"Turn a set of games into a graph representation.\"\"\"\n",
      "    # convert teams to ints for igraph\n",
      "    edges = []\n",
      "    for gid, row in df.iterrows():\n",
      "        if row['PTSH'] > row['PTSV']:\n",
      "            winner = row['H']\n",
      "            loser = row['V']\n",
      "        else:\n",
      "            winner = row['V']\n",
      "            loser = row['H']\n",
      "        edges.append((team_ids[loser], team_ids[winner]))\n",
      "    return ig.Graph(edges=edges, directed=True, vertex_attrs={'name': teams})\n",
      "\n",
      "def make_matrix(df, elements=lambda x: (1, 0) if x['PTSH'] > x['PTSV'] else (0, 1)):\n",
      "    \"\"\"Turn a set of games into a matrix representation.\"\"\"\n",
      "    k = len(teams)\n",
      "    mat = np.zeros((k, k))\n",
      "    for ix, row in df.iterrows():\n",
      "        a, b = elements(row)\n",
      "        mat[team_ids[row['H']], team_ids[row['V']]] = a\n",
      "        mat[team_ids[row['V']], team_ids[row['H']]] = b\n",
      "    return mat\n",
      "\n",
      "def make_model_matrix(df):\n",
      "    dummies = {team: (df['H'] == team).astype(np.int) - (df['V'] == team).astype(np.int)\n",
      "               for team in teams}\n",
      "    df2 = pd.DataFrame(dummies)\n",
      "    df2['win'] = (df['PTSH'] > df['PTSV']).astype(np.int)\n",
      "\n",
      "    y, X = dmatrices('win ~ 0 + %s' % ' + '.join(teams), df2)\n",
      "    return y, X\n"
     ],
     "language": "python",
     "metadata": {},
     "outputs": [],
     "prompt_number": 5
    },
    {
     "cell_type": "heading",
     "level": 3,
     "metadata": {},
     "source": [
      "Getting ESPN's Power Rankings"
     ]
    },
    {
     "cell_type": "code",
     "collapsed": false,
     "input": [
      "import requests \n",
      "from BeautifulSoup import BeautifulSoup as Soup\n",
      "\n",
      "def fetch_power_rankings(year, week):\n",
      "    \"\"\"Get the rankings from ESPN for a given year/week.\"\"\"\n",
      "    url = 'http://espn.go.com/nfl/powerrankings/_/year/%i/week/%i' % (year, week)\n",
      "    page = requests.get(url)\n",
      "    soup = Soup(page.content)\n",
      "    raw = [(int(td.text), td.parent.findAll('a')[0].get('href')) for td in soup.findAll(attrs={'class': 'pr-rank'})]\n",
      "    ranks = {}\n",
      "    for rank, url in raw:\n",
      "        ranks[url.split('/')[-2].upper()] = rank\n",
      "    ranks['WAS'] = ranks.pop('WSH')\n",
      "    return ranks\n",
      "\n",
      "\n",
      "if not os.path.exists('data/espn.rankings.json'):\n",
      "    espn_rankings = {}\n",
      "    for year in range(2002, 2013):\n",
      "        espn_rankings[year] = {}\n",
      "        for week in (9, 18):\n",
      "            espn_rankings[year][week] = fetch_power_rankings(year, week)\n",
      "            \n",
      "    with open('data/espn.rankings.json', 'w') as f:\n",
      "        espn_rankings = json.dump(espn_rankings, f)\n",
      "        \n",
      "else:\n",
      "    with open('data/espn.rankings.json') as f:\n",
      "        espn_rankings = json.load(f)\n",
      "\n",
      "def espn_rank(df):\n",
      "    week = df['WEEK'].max()\n",
      "    season = df['SEAS'].max()\n",
      "    return espn_rankings[str(season)][str(week+1)]"
     ],
     "language": "python",
     "metadata": {},
     "outputs": [],
     "prompt_number": 6
    },
    {
     "cell_type": "markdown",
     "metadata": {},
     "source": [
      "We'll make a dataframe for the 2012 season to use as an example."
     ]
    },
    {
     "cell_type": "code",
     "collapsed": false,
     "input": [
      "g12 = games[(games['SEAS'] == 2012)*(games['WEEK'] < 18)]"
     ],
     "language": "python",
     "metadata": {},
     "outputs": [],
     "prompt_number": 7
    },
    {
     "cell_type": "heading",
     "level": 2,
     "metadata": {},
     "source": [
      "Evaluation Methods"
     ]
    },
    {
     "cell_type": "code",
     "collapsed": false,
     "input": [
      "def rank_to_vector(rank):\n",
      "    return np.array([rank[team] for team in teams])\n",
      "    \n",
      "        \n",
      "def zero_one_loss(df, rank):\n",
      "    homebetter = df.H.map(rank.get) < df.V.map(rank.get)\n",
      "    homewin = df.PTSH > df.PTSV\n",
      "    return (homewin * homebetter + (1-homewin)*(1-homebetter)).sum() / float(df.shape[0])\n",
      "\n",
      "def misrank_loss(df, rank):\n",
      "    winner_rank = games.Winner.map(rank.get)\n",
      "    loser_rank = games.Loser.map(rank.get)\n",
      "    return ((winner_rank > loser_rank)*(winner_rank - loser_rank)).sum()\n",
      "\n",
      "def eval_espn_similarity(rank_func, year, week):\n",
      "    week8 = games[(games['SEAS'] == year)*(games['WEEK'] <= week)]\n",
      "    ours = rank_to_vector(rank_func(week8))\n",
      "    theirs = rank_to_vector(espn_rankings[str(year)][str(week+1)])\n",
      "        \n",
      "    return sps.kendalltau(ours, theirs)[0]\n",
      "\n",
      "def eval_description(rank_func, year):\n",
      "    season = games[(games['SEAS'] == year)*(games['WEEK'] < 18)]\n",
      "    rank = rank_func(season)\n",
      "    return zero_one_loss(season, rank)\n",
      "        \n",
      "def eval_in_season_prediction(rank_func, year):\n",
      "    first_half = games[(games['SEAS'] == year)*(games['WEEK'] < 9)]\n",
      "    second_half = games[(games['SEAS'] == year)*(games['WEEK'] < 18)*(games['WEEK'] >= 9)]\n",
      "    rank = rank_func(first_half)\n",
      "    return zero_one_loss(second_half, rank)\n",
      "        \n",
      "def eval_postseason_prediction(rank_func, year):\n",
      "    in_season = games[(games['SEAS'] == year)*(games['WEEK'] < 18)]\n",
      "    post_season = games[(games['SEAS'] == year)*(games['WEEK'] >= 18)]\n",
      "    rank = rank_func(in_season)\n",
      "    return zero_one_loss(post_season, rank)"
     ],
     "language": "python",
     "metadata": {},
     "outputs": [],
     "prompt_number": 8
    },
    {
     "cell_type": "heading",
     "level": 2,
     "metadata": {},
     "source": [
      "Ranking Methods"
     ]
    },
    {
     "cell_type": "heading",
     "level": 3,
     "metadata": {},
     "source": [
      "Wins"
     ]
    },
    {
     "cell_type": "code",
     "collapsed": false,
     "input": [
      "def wins(df):\n",
      "    winner = df.apply(lambda x: x['H'] if x['PTSH'] > x['PTSV'] else x['V'], axis=1)\n",
      "    w = {team: 31 for team in df['H'].unique()}\n",
      "    for rank, (team, ws) in enumerate(w.iteritems()):\n",
      "        w[team] = rank\n",
      "    return w"
     ],
     "language": "python",
     "metadata": {},
     "outputs": [],
     "prompt_number": 9
    },
    {
     "cell_type": "heading",
     "level": 3,
     "metadata": {},
     "source": [
      "Pythagorean Wins"
     ]
    },
    {
     "cell_type": "markdown",
     "metadata": {},
     "source": [
      "pythagorean wins = $\\frac{p^{\\beta}}{p^{\\beta} + q^{\\beta}}$"
     ]
    },
    {
     "cell_type": "code",
     "collapsed": false,
     "input": [
      "def pythagorean_wins(df, beta=2.37):\n",
      "    home = df.groupby('H')[['PTSH', 'PTSV']].sum().rename(columns={'PTSH': 'PTSFOR', 'PTSV': 'PTSAG'}, index={'H': 'TEAM'})\n",
      "    away = df.groupby('V')[['PTSH', 'PTSV']].sum().rename(columns={'PTSV': 'PTSFOR', 'PTSH': 'PTSAG'}, index={'V': 'TEAM'})\n",
      "    newdf = pd.concat([home, away]).groupby(level=0).sum()\n",
      "    winrate = newdf['PTSFOR']**beta / (newdf['PTSFOR']**beta + newdf['PTSAG']**beta)\n",
      "    return dict((winrate*-1).rank().astype(int).iteritems())"
     ],
     "language": "python",
     "metadata": {},
     "outputs": [],
     "prompt_number": 10
    },
    {
     "cell_type": "heading",
     "level": 3,
     "metadata": {},
     "source": [
      "Eigenvector Methods"
     ]
    },
    {
     "cell_type": "markdown",
     "metadata": {},
     "source": [
      "Power iteration code comes from [The Glowing Python's blogpost](http://glowingpython.blogspot.com/2011/05/four-ways-to-compute-google-pagerank.html).\n",
      "\n",
      "PageRank with no damping (damping = 1) should be equivalent to taking the largest eigvenvector."
     ]
    },
    {
     "cell_type": "code",
     "collapsed": false,
     "input": [
      "def pagerank(g, damping=1):\n",
      "    values = g.pagerank(damping=damping)\n",
      "    g_pr = {vert['name']: val for vert, val in zip(g.vs, values)}\n",
      "    return g_pr #{key: i for i, (key, v) in enumerate(sorted(g_pr.iteritems(), key=lambda x: x[1]))}\n",
      "\n",
      "def power_iteration(m, iters=10000, x0=None):\n",
      "    if x0 == None:\n",
      "        x0 = np.ones(m.shape[0])\n",
      "        x0 /= np.linalg.norm(x0, 1)\n",
      "\n",
      "    for i in range(iters):\n",
      "        x0 = np.dot(m,x0)\n",
      "        x0 /= np.linalg.norm(x0,1)\n",
      "\n",
      "    scores = {team: x0[i] for team, i in team_ids.iteritems()}\n",
      "    return {team: rank for rank, (team, score) in enumerate(sorted(scores.iteritems(), key=lambda x: x[1], reverse=True))}\n",
      "\n",
      "def eigen_rank(df):\n",
      "    m = make_matrix(df)\n",
      "    return power_iteration(m)\n",
      "\n",
      "def eigen_rank_scores(df):\n",
      "    \"\"\"Uses points scored instead of dummy variables for wins\"\"\"\n",
      "    m = make_matrix(df, elements=lambda x: (x['PTSH'], x['PTSV']))\n",
      "    return power_iteration(m)\n",
      "\n",
      "def score_transform(s1, s2):\n",
      "    x = (s1 + 1.0) / (s1 + s2 + 2.0)\n",
      "    return 0.5 + 0.5 * np.sign(x - 0.5) * np.sqrt(np.abs(2*x - 1))\n",
      "\n",
      "def eigen_rank_scores_nonlinear(df):\n",
      "    \"\"\"Uses a transformed version of score with gives less credit for blowouts\n",
      "    See Keener (1993).\n",
      "    \"\"\" \n",
      "    m = make_matrix(df, elements=lambda x: (score_transform(x['PTSH'], x['PTSV']), score_transform(x['PTSV'], x['PTSH'])))\n",
      "    return power_iteration(m)\n"
     ],
     "language": "python",
     "metadata": {},
     "outputs": [],
     "prompt_number": 11
    },
    {
     "cell_type": "heading",
     "level": 3,
     "metadata": {},
     "source": [
      "Bradley-Terry (and Rasch) models"
     ]
    },
    {
     "cell_type": "code",
     "collapsed": false,
     "input": [
      "def logit_rank(df, c=1.0):\n",
      "    y, X = make_model_matrix(df)\n",
      "    clf = linear_model.LogisticRegression(C=c, penalty='l2', tol=1e-6, fit_intercept=False)\n",
      "    clf.fit(X, y)\n",
      "    return {team: rank for rank, (team, score) in enumerate(sorted(zip(teams, clf.coef_[0]), key=lambda x: x[1], reverse=True))}"
     ],
     "language": "python",
     "metadata": {},
     "outputs": [],
     "prompt_number": 12
    },
    {
     "cell_type": "heading",
     "level": 3,
     "metadata": {},
     "source": [
      "Optimal Rankings"
     ]
    },
    {
     "cell_type": "code",
     "collapsed": false,
     "input": [
      "def optimal_rank(df):\n",
      "    g = make_graph(df)\n",
      "    feedback_arcs = g.feedback_arc_set(method='exact')\n",
      "    g.delete_edges(feedback_arcs)\n",
      "    g_sort = g.topological_sorting()\n",
      "    return {g.vs[ix]['name']: i for i, ix in enumerate(reversed(g_sort))}"
     ],
     "language": "python",
     "metadata": {},
     "outputs": [],
     "prompt_number": 13
    },
    {
     "cell_type": "heading",
     "level": 2,
     "metadata": {},
     "source": [
      "Evaluating our Rankings"
     ]
    },
    {
     "cell_type": "code",
     "collapsed": false,
     "input": [
      "rankers = {\n",
      "    'wins': wins,\n",
      "    'pythagorean wins': pythagorean_wins,\n",
      "    'eigenvector': eigen_rank,\n",
      "    'eigenvector2': eigen_rank_scores_nonlinear,\n",
      "    'btl': logit_rank,\n",
      "    'optimal': optimal_rank,\n",
      "    'espn': espn_rank,\n",
      "    }\n",
      "\n",
      "evaluations = {\n",
      "    'descriptive': eval_description,\n",
      "    'predict_in_season': eval_in_season_prediction,\n",
      "    'predict_postseason': eval_postseason_prediction,\n",
      "    'espn_similarity8': lambda rank, year: eval_espn_similarity(rank, year, 8),\n",
      "    'espn_similarity17': lambda rank, year: eval_espn_similarity(rank, year, 17)\n",
      "    }\n",
      "\n",
      "results = []\n",
      "for name, ranker in rankers.iteritems():\n",
      "    for eval_name, evaluation in evaluations.iteritems():\n",
      "        for year in range(2002, 2013):\n",
      "            metric = evaluation(ranker, year)\n",
      "            results.append({\n",
      "                'rank': name,\n",
      "                'eval': eval_name,\n",
      "                'year': year,\n",
      "                'value': metric,\n",
      "            })\n"
     ],
     "language": "python",
     "metadata": {},
     "outputs": [
      {
       "output_type": "stream",
       "stream": "stdout",
       "text": [
        "eigenvector2"
       ]
      },
      {
       "output_type": "stream",
       "stream": "stdout",
       "text": [
        " espn_similarity17 2002\n",
        "eigenvector2"
       ]
      },
      {
       "output_type": "stream",
       "stream": "stdout",
       "text": [
        " espn_similarity17 2003\n",
        "eigenvector2"
       ]
      },
      {
       "output_type": "stream",
       "stream": "stdout",
       "text": [
        " espn_similarity17 2004\n",
        "eigenvector2"
       ]
      },
      {
       "output_type": "stream",
       "stream": "stdout",
       "text": [
        " espn_similarity17 2005\n",
        "eigenvector2"
       ]
      },
      {
       "output_type": "stream",
       "stream": "stdout",
       "text": [
        " espn_similarity17 2006\n",
        "eigenvector2"
       ]
      },
      {
       "output_type": "stream",
       "stream": "stdout",
       "text": [
        " espn_similarity17 2007\n",
        "eigenvector2"
       ]
      },
      {
       "output_type": "stream",
       "stream": "stdout",
       "text": [
        " espn_similarity17 2008\n",
        "eigenvector2"
       ]
      },
      {
       "output_type": "stream",
       "stream": "stdout",
       "text": [
        " espn_similarity17 2009\n",
        "eigenvector2"
       ]
      },
      {
       "output_type": "stream",
       "stream": "stdout",
       "text": [
        " espn_similarity17 2010\n",
        "eigenvector2"
       ]
      },
      {
       "output_type": "stream",
       "stream": "stdout",
       "text": [
        " espn_similarity17 2011\n",
        "eigenvector2"
       ]
      },
      {
       "output_type": "stream",
       "stream": "stdout",
       "text": [
        " espn_similarity17 2012\n",
        "eigenvector2"
       ]
      },
      {
       "output_type": "stream",
       "stream": "stdout",
       "text": [
        " espn_similarity8 2002\n",
        "eigenvector2"
       ]
      },
      {
       "output_type": "stream",
       "stream": "stdout",
       "text": [
        " espn_similarity8 2003\n",
        "eigenvector2"
       ]
      },
      {
       "output_type": "stream",
       "stream": "stdout",
       "text": [
        " espn_similarity8 2004\n",
        "eigenvector2"
       ]
      },
      {
       "output_type": "stream",
       "stream": "stdout",
       "text": [
        " espn_similarity8 2005\n",
        "eigenvector2"
       ]
      },
      {
       "output_type": "stream",
       "stream": "stdout",
       "text": [
        " espn_similarity8 2006\n",
        "eigenvector2"
       ]
      },
      {
       "output_type": "stream",
       "stream": "stdout",
       "text": [
        " espn_similarity8 2007\n",
        "eigenvector2"
       ]
      },
      {
       "output_type": "stream",
       "stream": "stdout",
       "text": [
        " espn_similarity8 2008\n",
        "eigenvector2"
       ]
      },
      {
       "output_type": "stream",
       "stream": "stdout",
       "text": [
        " espn_similarity8 2009\n",
        "eigenvector2"
       ]
      },
      {
       "output_type": "stream",
       "stream": "stdout",
       "text": [
        " espn_similarity8 2010\n",
        "eigenvector2"
       ]
      },
      {
       "output_type": "stream",
       "stream": "stdout",
       "text": [
        " espn_similarity8 2011\n",
        "eigenvector2"
       ]
      },
      {
       "output_type": "stream",
       "stream": "stdout",
       "text": [
        " espn_similarity8 2012\n",
        "eigenvector2"
       ]
      },
      {
       "output_type": "stream",
       "stream": "stdout",
       "text": [
        " predict_in_season 2002\n",
        "eigenvector2"
       ]
      },
      {
       "output_type": "stream",
       "stream": "stdout",
       "text": [
        " predict_in_season 2003\n",
        "eigenvector2"
       ]
      },
      {
       "output_type": "stream",
       "stream": "stdout",
       "text": [
        " predict_in_season 2004\n",
        "eigenvector2"
       ]
      },
      {
       "output_type": "stream",
       "stream": "stdout",
       "text": [
        " predict_in_season 2005\n",
        "eigenvector2"
       ]
      },
      {
       "output_type": "stream",
       "stream": "stdout",
       "text": [
        " predict_in_season 2006\n",
        "eigenvector2"
       ]
      },
      {
       "output_type": "stream",
       "stream": "stdout",
       "text": [
        " predict_in_season 2007\n",
        "eigenvector2"
       ]
      },
      {
       "output_type": "stream",
       "stream": "stdout",
       "text": [
        " predict_in_season 2008\n",
        "eigenvector2"
       ]
      },
      {
       "output_type": "stream",
       "stream": "stdout",
       "text": [
        " predict_in_season 2009\n",
        "eigenvector2"
       ]
      },
      {
       "output_type": "stream",
       "stream": "stdout",
       "text": [
        " predict_in_season 2010\n",
        "eigenvector2"
       ]
      },
      {
       "output_type": "stream",
       "stream": "stdout",
       "text": [
        " predict_in_season 2011\n",
        "eigenvector2"
       ]
      },
      {
       "output_type": "stream",
       "stream": "stdout",
       "text": [
        " predict_in_season 2012\n",
        "eigenvector2"
       ]
      },
      {
       "output_type": "stream",
       "stream": "stdout",
       "text": [
        " descriptive 2002\n",
        "eigenvector2"
       ]
      },
      {
       "output_type": "stream",
       "stream": "stdout",
       "text": [
        " descriptive 2003\n",
        "eigenvector2"
       ]
      },
      {
       "output_type": "stream",
       "stream": "stdout",
       "text": [
        " descriptive 2004\n",
        "eigenvector2"
       ]
      },
      {
       "output_type": "stream",
       "stream": "stdout",
       "text": [
        " descriptive 2005\n",
        "eigenvector2"
       ]
      },
      {
       "output_type": "stream",
       "stream": "stdout",
       "text": [
        " descriptive 2006\n",
        "eigenvector2"
       ]
      },
      {
       "output_type": "stream",
       "stream": "stdout",
       "text": [
        " descriptive 2007\n",
        "eigenvector2"
       ]
      },
      {
       "output_type": "stream",
       "stream": "stdout",
       "text": [
        " descriptive 2008\n",
        "eigenvector2"
       ]
      },
      {
       "output_type": "stream",
       "stream": "stdout",
       "text": [
        " descriptive 2009\n",
        "eigenvector2"
       ]
      },
      {
       "output_type": "stream",
       "stream": "stdout",
       "text": [
        " descriptive 2010\n",
        "eigenvector2"
       ]
      },
      {
       "output_type": "stream",
       "stream": "stdout",
       "text": [
        " descriptive 2011\n",
        "eigenvector2"
       ]
      },
      {
       "output_type": "stream",
       "stream": "stdout",
       "text": [
        " descriptive 2012\n",
        "eigenvector2"
       ]
      },
      {
       "output_type": "stream",
       "stream": "stdout",
       "text": [
        " predict_postseason 2002\n",
        "eigenvector2"
       ]
      },
      {
       "output_type": "stream",
       "stream": "stdout",
       "text": [
        " predict_postseason 2003\n",
        "eigenvector2"
       ]
      },
      {
       "output_type": "stream",
       "stream": "stdout",
       "text": [
        " predict_postseason 2004\n",
        "eigenvector2"
       ]
      },
      {
       "output_type": "stream",
       "stream": "stdout",
       "text": [
        " predict_postseason 2005\n",
        "eigenvector2"
       ]
      },
      {
       "output_type": "stream",
       "stream": "stdout",
       "text": [
        " predict_postseason 2006\n",
        "eigenvector2"
       ]
      },
      {
       "output_type": "stream",
       "stream": "stdout",
       "text": [
        " predict_postseason 2007\n",
        "eigenvector2"
       ]
      },
      {
       "output_type": "stream",
       "stream": "stdout",
       "text": [
        " predict_postseason 2008\n",
        "eigenvector2"
       ]
      },
      {
       "output_type": "stream",
       "stream": "stdout",
       "text": [
        " predict_postseason 2009\n",
        "eigenvector2"
       ]
      },
      {
       "output_type": "stream",
       "stream": "stdout",
       "text": [
        " predict_postseason 2010\n",
        "eigenvector2"
       ]
      },
      {
       "output_type": "stream",
       "stream": "stdout",
       "text": [
        " predict_postseason 2011\n",
        "eigenvector2"
       ]
      },
      {
       "output_type": "stream",
       "stream": "stdout",
       "text": [
        " predict_postseason 2012\n",
        "espn"
       ]
      },
      {
       "output_type": "stream",
       "stream": "stdout",
       "text": [
        " espn_similarity17 2002\n",
        "espn espn_similarity17 2003\n",
        "espn espn_similarity17 2004\n",
        "espn espn_similarity17 2005\n",
        "espn espn_similarity17 2006\n",
        "espn espn_similarity17 2007\n",
        "espn espn_similarity17 2008\n",
        "espn espn_similarity17 2009\n",
        "espn espn_similarity17 2010\n",
        "espn espn_similarity17 2011\n",
        "espn espn_similarity17 2012\n",
        "espn espn_similarity8 2002\n",
        "espn espn_similarity8 2003\n",
        "espn espn_similarity8 2004\n",
        "espn espn_similarity8 2005\n",
        "espn espn_similarity8 2006\n",
        "espn espn_similarity8 2007\n",
        "espn espn_similarity8 2008\n",
        "espn espn_similarity8 2009\n",
        "espn espn_similarity8 2010\n",
        "espn espn_similarity8 2011\n",
        "espn espn_similarity8 2012\n",
        "espn predict_in_season 2002\n",
        "espn predict_in_season 2003\n",
        "espn predict_in_season 2004\n",
        "espn predict_in_season 2005\n",
        "espn predict_in_season 2006\n",
        "espn predict_in_season 2007\n",
        "espn predict_in_season 2008\n",
        "espn predict_in_season 2009\n",
        "espn predict_in_season 2010\n",
        "espn predict_in_season 2011\n",
        "espn predict_in_season 2012\n",
        "espn descriptive 2002\n",
        "espn descriptive 2003\n",
        "espn descriptive 2004\n",
        "espn descriptive 2005\n",
        "espn descriptive 2006\n",
        "espn"
       ]
      },
      {
       "output_type": "stream",
       "stream": "stdout",
       "text": [
        " descriptive 2007\n",
        "espn descriptive 2008\n",
        "espn descriptive 2009\n",
        "espn descriptive 2010\n",
        "espn descriptive 2011\n",
        "espn descriptive 2012\n",
        "espn predict_postseason 2002\n",
        "espn predict_postseason 2003\n",
        "espn predict_postseason 2004\n",
        "espn predict_postseason 2005\n",
        "espn predict_postseason 2006\n",
        "espn predict_postseason 2007\n",
        "espn predict_postseason 2008\n",
        "espn predict_postseason 2009\n",
        "espn predict_postseason 2010\n",
        "espn predict_postseason 2011\n",
        "espn predict_postseason 2012\n",
        "wins espn_similarity17 2002\n",
        "wins espn_similarity17 2003\n",
        "wins espn_similarity17 2004\n",
        "wins espn_similarity17 2005\n",
        "wins"
       ]
      },
      {
       "output_type": "stream",
       "stream": "stdout",
       "text": [
        " espn_similarity17 2006\n",
        "wins espn_similarity17 2007\n",
        "wins espn_similarity17 2008\n",
        "wins espn_similarity17 2009\n",
        "wins espn_similarity17 2010\n",
        "wins espn_similarity17 2011\n",
        "wins espn_similarity17 2012\n",
        "wins espn_similarity8 2002\n",
        "wins"
       ]
      },
      {
       "output_type": "stream",
       "stream": "stdout",
       "text": [
        " espn_similarity8 2003\n",
        "wins espn_similarity8 2004\n",
        "wins espn_similarity8 2005\n",
        "wins espn_similarity8 2006\n",
        "wins espn_similarity8 2007\n",
        "wins espn_similarity8 2008\n",
        "wins espn_similarity8 2009\n",
        "wins espn_similarity8 2010\n",
        "wins espn_similarity8 2011\n",
        "wins espn_similarity8 2012\n",
        "wins predict_in_season 2002\n",
        "wins predict_in_season 2003\n",
        "wins"
       ]
      },
      {
       "output_type": "stream",
       "stream": "stdout",
       "text": [
        " predict_in_season 2004\n",
        "wins predict_in_season 2005\n",
        "wins predict_in_season 2006\n",
        "wins predict_in_season 2007\n",
        "wins predict_in_season 2008\n",
        "wins predict_in_season 2009\n",
        "wins predict_in_season 2010\n",
        "wins predict_in_season 2011\n",
        "wins predict_in_season 2012\n",
        "wins descriptive 2002\n",
        "wins descriptive 2003\n",
        "wins descriptive 2004\n",
        "wins descriptive 2005\n",
        "wins"
       ]
      },
      {
       "output_type": "stream",
       "stream": "stdout",
       "text": [
        " descriptive 2006\n",
        "wins descriptive 2007\n",
        "wins descriptive 2008\n",
        "wins descriptive 2009\n",
        "wins descriptive 2010\n",
        "wins descriptive 2011\n",
        "wins descriptive 2012\n",
        "wins predict_postseason 2002\n",
        "wins predict_postseason 2003\n",
        "wins predict_postseason 2004\n",
        "wins"
       ]
      },
      {
       "output_type": "stream",
       "stream": "stdout",
       "text": [
        " predict_postseason 2005\n",
        "wins predict_postseason 2006\n",
        "wins predict_postseason 2007\n",
        "wins predict_postseason 2008\n",
        "wins predict_postseason 2009\n",
        "wins predict_postseason 2010\n",
        "wins predict_postseason 2011\n",
        "wins predict_postseason 2012\n",
        "optimal espn_similarity17 2002\n",
        "optimal"
       ]
      },
      {
       "output_type": "stream",
       "stream": "stdout",
       "text": [
        " espn_similarity17 2003\n",
        "optimal"
       ]
      },
      {
       "output_type": "stream",
       "stream": "stdout",
       "text": [
        " espn_similarity17 2004\n",
        "optimal"
       ]
      },
      {
       "output_type": "stream",
       "stream": "stdout",
       "text": [
        " espn_similarity17 2005\n",
        "optimal"
       ]
      },
      {
       "output_type": "stream",
       "stream": "stdout",
       "text": [
        " espn_similarity17 2006\n",
        "optimal"
       ]
      },
      {
       "output_type": "stream",
       "stream": "stdout",
       "text": [
        " espn_similarity17 2007\n",
        "optimal"
       ]
      },
      {
       "output_type": "stream",
       "stream": "stdout",
       "text": [
        " espn_similarity17 2008\n",
        "optimal"
       ]
      },
      {
       "output_type": "stream",
       "stream": "stdout",
       "text": [
        " espn_similarity17 2009\n",
        "optimal"
       ]
      },
      {
       "output_type": "stream",
       "stream": "stdout",
       "text": [
        " espn_similarity17 2010\n",
        "optimal"
       ]
      },
      {
       "output_type": "stream",
       "stream": "stdout",
       "text": [
        " espn_similarity17 2011\n",
        "optimal"
       ]
      },
      {
       "output_type": "stream",
       "stream": "stdout",
       "text": [
        " espn_similarity17 2012\n",
        "optimal"
       ]
      },
      {
       "output_type": "stream",
       "stream": "stdout",
       "text": [
        " espn_similarity8 2002\n",
        "optimal"
       ]
      },
      {
       "output_type": "stream",
       "stream": "stdout",
       "text": [
        " espn_similarity8 2003\n",
        "optimal"
       ]
      },
      {
       "output_type": "stream",
       "stream": "stdout",
       "text": [
        " espn_similarity8 2004\n",
        "optimal"
       ]
      },
      {
       "output_type": "stream",
       "stream": "stdout",
       "text": [
        " espn_similarity8 2005\n",
        "optimal"
       ]
      },
      {
       "output_type": "stream",
       "stream": "stdout",
       "text": [
        " espn_similarity8 2006\n",
        "optimal"
       ]
      },
      {
       "output_type": "stream",
       "stream": "stdout",
       "text": [
        " espn_similarity8 2007\n",
        "optimal"
       ]
      },
      {
       "output_type": "stream",
       "stream": "stdout",
       "text": [
        " espn_similarity8 2008\n",
        "optimal"
       ]
      },
      {
       "output_type": "stream",
       "stream": "stdout",
       "text": [
        " espn_similarity8 2009\n",
        "optimal"
       ]
      },
      {
       "output_type": "stream",
       "stream": "stdout",
       "text": [
        " espn_similarity8 2010\n",
        "optimal"
       ]
      },
      {
       "output_type": "stream",
       "stream": "stdout",
       "text": [
        " espn_similarity8 2011\n",
        "optimal"
       ]
      },
      {
       "output_type": "stream",
       "stream": "stdout",
       "text": [
        " espn_similarity8 2012\n",
        "optimal"
       ]
      },
      {
       "output_type": "stream",
       "stream": "stdout",
       "text": [
        " predict_in_season 2002\n",
        "optimal"
       ]
      },
      {
       "output_type": "stream",
       "stream": "stdout",
       "text": [
        " predict_in_season 2003\n",
        "optimal"
       ]
      },
      {
       "output_type": "stream",
       "stream": "stdout",
       "text": [
        " predict_in_season 2004\n",
        "optimal"
       ]
      },
      {
       "output_type": "stream",
       "stream": "stdout",
       "text": [
        " predict_in_season 2005\n",
        "optimal"
       ]
      },
      {
       "output_type": "stream",
       "stream": "stdout",
       "text": [
        " predict_in_season 2006\n",
        "optimal"
       ]
      },
      {
       "output_type": "stream",
       "stream": "stdout",
       "text": [
        " predict_in_season 2007\n",
        "optimal"
       ]
      },
      {
       "output_type": "stream",
       "stream": "stdout",
       "text": [
        " predict_in_season 2008\n",
        "optimal"
       ]
      },
      {
       "output_type": "stream",
       "stream": "stdout",
       "text": [
        " predict_in_season 2009\n",
        "optimal"
       ]
      },
      {
       "output_type": "stream",
       "stream": "stdout",
       "text": [
        " predict_in_season 2010\n",
        "optimal"
       ]
      },
      {
       "output_type": "stream",
       "stream": "stdout",
       "text": [
        " predict_in_season 2011\n",
        "optimal"
       ]
      },
      {
       "output_type": "stream",
       "stream": "stdout",
       "text": [
        " predict_in_season 2012\n",
        "optimal"
       ]
      },
      {
       "output_type": "stream",
       "stream": "stdout",
       "text": [
        " descriptive 2002\n",
        "optimal"
       ]
      },
      {
       "output_type": "stream",
       "stream": "stdout",
       "text": [
        " descriptive 2003\n",
        "optimal"
       ]
      },
      {
       "output_type": "stream",
       "stream": "stdout",
       "text": [
        " descriptive 2004\n",
        "optimal"
       ]
      },
      {
       "output_type": "stream",
       "stream": "stdout",
       "text": [
        " descriptive 2005\n",
        "optimal"
       ]
      },
      {
       "output_type": "stream",
       "stream": "stdout",
       "text": [
        " descriptive 2006\n",
        "optimal"
       ]
      },
      {
       "output_type": "stream",
       "stream": "stdout",
       "text": [
        " descriptive 2007\n",
        "optimal"
       ]
      },
      {
       "output_type": "stream",
       "stream": "stdout",
       "text": [
        " descriptive 2008\n",
        "optimal"
       ]
      },
      {
       "output_type": "stream",
       "stream": "stdout",
       "text": [
        " descriptive 2009\n",
        "optimal"
       ]
      },
      {
       "output_type": "stream",
       "stream": "stdout",
       "text": [
        " descriptive 2010\n",
        "optimal"
       ]
      },
      {
       "output_type": "stream",
       "stream": "stdout",
       "text": [
        " descriptive 2011\n",
        "optimal"
       ]
      },
      {
       "output_type": "stream",
       "stream": "stdout",
       "text": [
        " descriptive 2012\n",
        "optimal"
       ]
      },
      {
       "output_type": "stream",
       "stream": "stdout",
       "text": [
        " predict_postseason 2002\n",
        "optimal"
       ]
      },
      {
       "output_type": "stream",
       "stream": "stdout",
       "text": [
        " predict_postseason 2003\n",
        "optimal"
       ]
      },
      {
       "output_type": "stream",
       "stream": "stdout",
       "text": [
        " predict_postseason 2004\n",
        "optimal"
       ]
      },
      {
       "output_type": "stream",
       "stream": "stdout",
       "text": [
        " predict_postseason 2005\n",
        "optimal"
       ]
      },
      {
       "output_type": "stream",
       "stream": "stdout",
       "text": [
        " predict_postseason 2006\n",
        "optimal"
       ]
      },
      {
       "output_type": "stream",
       "stream": "stdout",
       "text": [
        " predict_postseason 2007\n",
        "optimal"
       ]
      },
      {
       "output_type": "stream",
       "stream": "stdout",
       "text": [
        " predict_postseason 2008\n",
        "optimal"
       ]
      },
      {
       "output_type": "stream",
       "stream": "stdout",
       "text": [
        " predict_postseason 2009\n",
        "optimal"
       ]
      },
      {
       "output_type": "stream",
       "stream": "stdout",
       "text": [
        " predict_postseason 2010\n",
        "optimal"
       ]
      },
      {
       "output_type": "stream",
       "stream": "stdout",
       "text": [
        " predict_postseason 2011\n",
        "optimal"
       ]
      },
      {
       "output_type": "stream",
       "stream": "stdout",
       "text": [
        " predict_postseason 2012\n",
        "btl"
       ]
      },
      {
       "output_type": "stream",
       "stream": "stdout",
       "text": [
        " espn_similarity17 2002\n",
        "btl"
       ]
      },
      {
       "output_type": "stream",
       "stream": "stdout",
       "text": [
        " espn_similarity17 2003\n",
        "btl"
       ]
      },
      {
       "output_type": "stream",
       "stream": "stdout",
       "text": [
        " espn_similarity17 2004\n",
        "btl"
       ]
      },
      {
       "output_type": "stream",
       "stream": "stdout",
       "text": [
        " espn_similarity17 2005\n",
        "btl"
       ]
      },
      {
       "output_type": "stream",
       "stream": "stdout",
       "text": [
        " espn_similarity17 2006\n",
        "btl"
       ]
      },
      {
       "output_type": "stream",
       "stream": "stdout",
       "text": [
        " espn_similarity17 2007\n",
        "btl"
       ]
      },
      {
       "output_type": "stream",
       "stream": "stdout",
       "text": [
        " espn_similarity17 2008\n",
        "btl"
       ]
      },
      {
       "output_type": "stream",
       "stream": "stdout",
       "text": [
        " espn_similarity17 2009\n",
        "btl"
       ]
      },
      {
       "output_type": "stream",
       "stream": "stdout",
       "text": [
        " espn_similarity17 2010\n",
        "btl"
       ]
      },
      {
       "output_type": "stream",
       "stream": "stdout",
       "text": [
        " espn_similarity17 2011\n",
        "btl"
       ]
      },
      {
       "output_type": "stream",
       "stream": "stdout",
       "text": [
        " espn_similarity17 2012\n",
        "btl"
       ]
      },
      {
       "output_type": "stream",
       "stream": "stdout",
       "text": [
        " espn_similarity8 2002\n",
        "btl"
       ]
      },
      {
       "output_type": "stream",
       "stream": "stdout",
       "text": [
        " espn_similarity8 2003\n",
        "btl"
       ]
      },
      {
       "output_type": "stream",
       "stream": "stdout",
       "text": [
        " espn_similarity8 2004\n",
        "btl"
       ]
      },
      {
       "output_type": "stream",
       "stream": "stdout",
       "text": [
        " espn_similarity8 2005\n",
        "btl"
       ]
      },
      {
       "output_type": "stream",
       "stream": "stdout",
       "text": [
        " espn_similarity8 2006\n",
        "btl"
       ]
      },
      {
       "output_type": "stream",
       "stream": "stdout",
       "text": [
        " espn_similarity8 2007\n",
        "btl"
       ]
      },
      {
       "output_type": "stream",
       "stream": "stdout",
       "text": [
        " espn_similarity8 2008\n",
        "btl"
       ]
      },
      {
       "output_type": "stream",
       "stream": "stdout",
       "text": [
        " espn_similarity8 2009\n",
        "btl"
       ]
      },
      {
       "output_type": "stream",
       "stream": "stdout",
       "text": [
        " espn_similarity8 2010\n",
        "btl"
       ]
      },
      {
       "output_type": "stream",
       "stream": "stdout",
       "text": [
        " espn_similarity8 2011\n",
        "btl"
       ]
      },
      {
       "output_type": "stream",
       "stream": "stdout",
       "text": [
        " espn_similarity8 2012\n",
        "btl"
       ]
      },
      {
       "output_type": "stream",
       "stream": "stdout",
       "text": [
        " predict_in_season 2002\n",
        "btl"
       ]
      },
      {
       "output_type": "stream",
       "stream": "stdout",
       "text": [
        " predict_in_season 2003\n",
        "btl"
       ]
      },
      {
       "output_type": "stream",
       "stream": "stdout",
       "text": [
        " predict_in_season 2004\n",
        "btl"
       ]
      },
      {
       "output_type": "stream",
       "stream": "stdout",
       "text": [
        " predict_in_season 2005\n",
        "btl"
       ]
      },
      {
       "output_type": "stream",
       "stream": "stdout",
       "text": [
        " predict_in_season 2006\n",
        "btl"
       ]
      },
      {
       "output_type": "stream",
       "stream": "stdout",
       "text": [
        " predict_in_season 2007\n",
        "btl"
       ]
      },
      {
       "output_type": "stream",
       "stream": "stdout",
       "text": [
        " predict_in_season 2008\n",
        "btl"
       ]
      },
      {
       "output_type": "stream",
       "stream": "stdout",
       "text": [
        " predict_in_season 2009\n",
        "btl"
       ]
      },
      {
       "output_type": "stream",
       "stream": "stdout",
       "text": [
        " predict_in_season 2010\n",
        "btl"
       ]
      },
      {
       "output_type": "stream",
       "stream": "stdout",
       "text": [
        " predict_in_season 2011\n",
        "btl"
       ]
      },
      {
       "output_type": "stream",
       "stream": "stdout",
       "text": [
        " predict_in_season 2012\n",
        "btl"
       ]
      },
      {
       "output_type": "stream",
       "stream": "stdout",
       "text": [
        " descriptive 2002\n",
        "btl"
       ]
      },
      {
       "output_type": "stream",
       "stream": "stdout",
       "text": [
        " descriptive 2003\n",
        "btl"
       ]
      },
      {
       "output_type": "stream",
       "stream": "stdout",
       "text": [
        " descriptive 2004\n",
        "btl"
       ]
      },
      {
       "output_type": "stream",
       "stream": "stdout",
       "text": [
        " descriptive 2005\n",
        "btl"
       ]
      },
      {
       "output_type": "stream",
       "stream": "stdout",
       "text": [
        " descriptive 2006\n",
        "btl"
       ]
      },
      {
       "output_type": "stream",
       "stream": "stdout",
       "text": [
        " descriptive 2007\n",
        "btl"
       ]
      },
      {
       "output_type": "stream",
       "stream": "stdout",
       "text": [
        " descriptive 2008\n",
        "btl"
       ]
      },
      {
       "output_type": "stream",
       "stream": "stdout",
       "text": [
        " descriptive 2009\n",
        "btl"
       ]
      },
      {
       "output_type": "stream",
       "stream": "stdout",
       "text": [
        " descriptive 2010\n",
        "btl"
       ]
      },
      {
       "output_type": "stream",
       "stream": "stdout",
       "text": [
        " descriptive 2011\n",
        "btl"
       ]
      },
      {
       "output_type": "stream",
       "stream": "stdout",
       "text": [
        " descriptive 2012\n",
        "btl"
       ]
      },
      {
       "output_type": "stream",
       "stream": "stdout",
       "text": [
        " predict_postseason 2002\n",
        "btl"
       ]
      },
      {
       "output_type": "stream",
       "stream": "stdout",
       "text": [
        " predict_postseason 2003\n",
        "btl"
       ]
      },
      {
       "output_type": "stream",
       "stream": "stdout",
       "text": [
        " predict_postseason 2004\n",
        "btl"
       ]
      },
      {
       "output_type": "stream",
       "stream": "stdout",
       "text": [
        " predict_postseason 2005\n",
        "btl"
       ]
      },
      {
       "output_type": "stream",
       "stream": "stdout",
       "text": [
        " predict_postseason 2006\n",
        "btl"
       ]
      },
      {
       "output_type": "stream",
       "stream": "stdout",
       "text": [
        " predict_postseason 2007\n",
        "btl"
       ]
      },
      {
       "output_type": "stream",
       "stream": "stdout",
       "text": [
        " predict_postseason 2008\n",
        "btl"
       ]
      },
      {
       "output_type": "stream",
       "stream": "stdout",
       "text": [
        " predict_postseason 2009\n",
        "btl"
       ]
      },
      {
       "output_type": "stream",
       "stream": "stdout",
       "text": [
        " predict_postseason 2010\n",
        "btl"
       ]
      },
      {
       "output_type": "stream",
       "stream": "stdout",
       "text": [
        " predict_postseason 2011\n",
        "btl"
       ]
      },
      {
       "output_type": "stream",
       "stream": "stdout",
       "text": [
        " predict_postseason 2012\n",
        "pythagorean wins"
       ]
      },
      {
       "output_type": "stream",
       "stream": "stdout",
       "text": [
        " espn_similarity17 2002\n",
        "pythagorean wins espn_similarity17 2003\n",
        "pythagorean wins espn_similarity17 2004\n",
        "pythagorean wins espn_similarity17 2005\n",
        "pythagorean wins espn_similarity17 2006\n",
        "pythagorean wins espn_similarity17 2007\n",
        "pythagorean wins espn_similarity17 2008\n",
        "pythagorean wins espn_similarity17 2009\n",
        "pythagorean wins espn_similarity17 2010\n",
        "pythagorean wins espn_similarity17 2011\n",
        "pythagorean wins"
       ]
      },
      {
       "output_type": "stream",
       "stream": "stdout",
       "text": [
        " espn_similarity17 2012\n",
        "pythagorean wins espn_similarity8 2002\n",
        "pythagorean wins espn_similarity8 2003\n",
        "pythagorean wins espn_similarity8 2004\n",
        "pythagorean wins espn_similarity8 2005\n",
        "pythagorean wins espn_similarity8 2006\n",
        "pythagorean wins espn_similarity8 2007\n",
        "pythagorean wins espn_similarity8 2008\n",
        "pythagorean wins espn_similarity8 2009\n",
        "pythagorean wins espn_similarity8 2010\n",
        "pythagorean wins espn_similarity8 2011\n",
        "pythagorean wins"
       ]
      },
      {
       "output_type": "stream",
       "stream": "stdout",
       "text": [
        " espn_similarity8 2012\n",
        "pythagorean wins predict_in_season 2002\n",
        "pythagorean wins predict_in_season 2003\n",
        "pythagorean wins predict_in_season 2004\n",
        "pythagorean wins predict_in_season 2005\n",
        "pythagorean wins predict_in_season 2006\n",
        "pythagorean wins predict_in_season 2007\n",
        "pythagorean wins predict_in_season 2008\n",
        "pythagorean wins predict_in_season 2009\n",
        "pythagorean wins predict_in_season 2010\n",
        "pythagorean wins predict_in_season 2011\n",
        "pythagorean wins predict_in_season 2012\n",
        "pythagorean wins"
       ]
      },
      {
       "output_type": "stream",
       "stream": "stdout",
       "text": [
        " descriptive 2002\n",
        "pythagorean wins descriptive 2003\n",
        "pythagorean wins descriptive 2004\n",
        "pythagorean wins descriptive 2005\n",
        "pythagorean wins descriptive 2006\n",
        "pythagorean wins descriptive 2007\n",
        "pythagorean wins descriptive 2008\n",
        "pythagorean wins descriptive 2009\n",
        "pythagorean wins descriptive 2010\n",
        "pythagorean wins descriptive 2011\n",
        "pythagorean wins descriptive 2012\n",
        "pythagorean wins predict_postseason 2002\n",
        "pythagorean wins predict_postseason 2003\n",
        "pythagorean wins"
       ]
      },
      {
       "output_type": "stream",
       "stream": "stdout",
       "text": [
        " predict_postseason 2004\n",
        "pythagorean wins predict_postseason 2005\n",
        "pythagorean wins predict_postseason 2006\n",
        "pythagorean wins predict_postseason 2007\n",
        "pythagorean wins predict_postseason 2008\n",
        "pythagorean wins predict_postseason 2009\n",
        "pythagorean wins predict_postseason 2010\n",
        "pythagorean wins predict_postseason 2011\n",
        "pythagorean wins predict_postseason 2012\n",
        "eigenvector espn_similarity17 2002\n",
        "eigenvector"
       ]
      },
      {
       "output_type": "stream",
       "stream": "stdout",
       "text": [
        " espn_similarity17 2003\n",
        "eigenvector"
       ]
      },
      {
       "output_type": "stream",
       "stream": "stdout",
       "text": [
        " espn_similarity17 2004\n",
        "eigenvector"
       ]
      },
      {
       "output_type": "stream",
       "stream": "stdout",
       "text": [
        " espn_similarity17 2005\n",
        "eigenvector"
       ]
      },
      {
       "output_type": "stream",
       "stream": "stdout",
       "text": [
        " espn_similarity17 2006\n",
        "eigenvector"
       ]
      },
      {
       "output_type": "stream",
       "stream": "stdout",
       "text": [
        " espn_similarity17 2007\n",
        "eigenvector"
       ]
      },
      {
       "output_type": "stream",
       "stream": "stdout",
       "text": [
        " espn_similarity17 2008\n",
        "eigenvector"
       ]
      },
      {
       "output_type": "stream",
       "stream": "stdout",
       "text": [
        " espn_similarity17 2009\n",
        "eigenvector"
       ]
      },
      {
       "output_type": "stream",
       "stream": "stdout",
       "text": [
        " espn_similarity17 2010\n",
        "eigenvector"
       ]
      },
      {
       "output_type": "stream",
       "stream": "stdout",
       "text": [
        " espn_similarity17 2011\n",
        "eigenvector"
       ]
      },
      {
       "output_type": "stream",
       "stream": "stdout",
       "text": [
        " espn_similarity17 2012\n",
        "eigenvector"
       ]
      },
      {
       "output_type": "stream",
       "stream": "stdout",
       "text": [
        " espn_similarity8 2002\n",
        "eigenvector"
       ]
      },
      {
       "output_type": "stream",
       "stream": "stdout",
       "text": [
        " espn_similarity8 2003\n",
        "eigenvector"
       ]
      },
      {
       "output_type": "stream",
       "stream": "stdout",
       "text": [
        " espn_similarity8 2004\n",
        "eigenvector"
       ]
      },
      {
       "output_type": "stream",
       "stream": "stdout",
       "text": [
        " espn_similarity8 2005\n",
        "eigenvector"
       ]
      },
      {
       "output_type": "stream",
       "stream": "stdout",
       "text": [
        " espn_similarity8 2006\n",
        "eigenvector"
       ]
      },
      {
       "output_type": "stream",
       "stream": "stdout",
       "text": [
        " espn_similarity8 2007\n",
        "eigenvector"
       ]
      },
      {
       "output_type": "stream",
       "stream": "stdout",
       "text": [
        " espn_similarity8 2008\n",
        "eigenvector"
       ]
      },
      {
       "output_type": "stream",
       "stream": "stdout",
       "text": [
        " espn_similarity8 2009\n",
        "eigenvector"
       ]
      },
      {
       "output_type": "stream",
       "stream": "stdout",
       "text": [
        " espn_similarity8 2010\n",
        "eigenvector"
       ]
      },
      {
       "output_type": "stream",
       "stream": "stdout",
       "text": [
        " espn_similarity8 2011\n",
        "eigenvector"
       ]
      },
      {
       "output_type": "stream",
       "stream": "stdout",
       "text": [
        " espn_similarity8 2012\n",
        "eigenvector"
       ]
      },
      {
       "output_type": "stream",
       "stream": "stdout",
       "text": [
        " predict_in_season 2002\n",
        "eigenvector"
       ]
      },
      {
       "output_type": "stream",
       "stream": "stdout",
       "text": [
        " predict_in_season 2003\n",
        "eigenvector"
       ]
      },
      {
       "output_type": "stream",
       "stream": "stdout",
       "text": [
        " predict_in_season 2004\n",
        "eigenvector"
       ]
      },
      {
       "output_type": "stream",
       "stream": "stdout",
       "text": [
        " predict_in_season 2005\n",
        "eigenvector"
       ]
      },
      {
       "output_type": "stream",
       "stream": "stdout",
       "text": [
        " predict_in_season 2006\n",
        "eigenvector"
       ]
      },
      {
       "output_type": "stream",
       "stream": "stdout",
       "text": [
        " predict_in_season 2007\n",
        "eigenvector"
       ]
      },
      {
       "output_type": "stream",
       "stream": "stdout",
       "text": [
        " predict_in_season 2008\n",
        "eigenvector"
       ]
      },
      {
       "output_type": "stream",
       "stream": "stdout",
       "text": [
        " predict_in_season 2009\n",
        "eigenvector"
       ]
      },
      {
       "output_type": "stream",
       "stream": "stdout",
       "text": [
        " predict_in_season 2010\n",
        "eigenvector"
       ]
      },
      {
       "output_type": "stream",
       "stream": "stdout",
       "text": [
        " predict_in_season 2011\n",
        "eigenvector"
       ]
      },
      {
       "output_type": "stream",
       "stream": "stdout",
       "text": [
        " predict_in_season 2012\n",
        "eigenvector"
       ]
      },
      {
       "output_type": "stream",
       "stream": "stdout",
       "text": [
        " descriptive 2002\n",
        "eigenvector"
       ]
      },
      {
       "output_type": "stream",
       "stream": "stdout",
       "text": [
        " descriptive 2003\n",
        "eigenvector"
       ]
      },
      {
       "output_type": "stream",
       "stream": "stdout",
       "text": [
        " descriptive 2004\n",
        "eigenvector"
       ]
      },
      {
       "output_type": "stream",
       "stream": "stdout",
       "text": [
        " descriptive 2005\n",
        "eigenvector"
       ]
      },
      {
       "output_type": "stream",
       "stream": "stdout",
       "text": [
        " descriptive 2006\n",
        "eigenvector"
       ]
      },
      {
       "output_type": "stream",
       "stream": "stdout",
       "text": [
        " descriptive 2007\n",
        "eigenvector"
       ]
      },
      {
       "output_type": "stream",
       "stream": "stdout",
       "text": [
        " descriptive 2008\n",
        "eigenvector"
       ]
      },
      {
       "output_type": "stream",
       "stream": "stdout",
       "text": [
        " descriptive 2009\n",
        "eigenvector"
       ]
      },
      {
       "output_type": "stream",
       "stream": "stdout",
       "text": [
        " descriptive 2010\n",
        "eigenvector"
       ]
      },
      {
       "output_type": "stream",
       "stream": "stdout",
       "text": [
        " descriptive 2011\n",
        "eigenvector"
       ]
      },
      {
       "output_type": "stream",
       "stream": "stdout",
       "text": [
        " descriptive 2012\n",
        "eigenvector"
       ]
      },
      {
       "output_type": "stream",
       "stream": "stdout",
       "text": [
        " predict_postseason 2002\n",
        "eigenvector"
       ]
      },
      {
       "output_type": "stream",
       "stream": "stdout",
       "text": [
        " predict_postseason 2003\n",
        "eigenvector"
       ]
      },
      {
       "output_type": "stream",
       "stream": "stdout",
       "text": [
        " predict_postseason 2004\n",
        "eigenvector"
       ]
      },
      {
       "output_type": "stream",
       "stream": "stdout",
       "text": [
        " predict_postseason 2005\n",
        "eigenvector"
       ]
      },
      {
       "output_type": "stream",
       "stream": "stdout",
       "text": [
        " predict_postseason 2006\n",
        "eigenvector"
       ]
      },
      {
       "output_type": "stream",
       "stream": "stdout",
       "text": [
        " predict_postseason 2007\n",
        "eigenvector"
       ]
      },
      {
       "output_type": "stream",
       "stream": "stdout",
       "text": [
        " predict_postseason 2008\n",
        "eigenvector"
       ]
      },
      {
       "output_type": "stream",
       "stream": "stdout",
       "text": [
        " predict_postseason 2009\n",
        "eigenvector"
       ]
      },
      {
       "output_type": "stream",
       "stream": "stdout",
       "text": [
        " predict_postseason 2010\n",
        "eigenvector"
       ]
      },
      {
       "output_type": "stream",
       "stream": "stdout",
       "text": [
        " predict_postseason 2011\n",
        "eigenvector"
       ]
      },
      {
       "output_type": "stream",
       "stream": "stdout",
       "text": [
        " predict_postseason 2012\n"
       ]
      }
     ],
     "prompt_number": 14
    },
    {
     "cell_type": "code",
     "collapsed": false,
     "input": [
      "resdf = pd.DataFrame(results)\n",
      "resdf.set_index(['eval', 'year', 'rank'], inplace=True)"
     ],
     "language": "python",
     "metadata": {},
     "outputs": [
      {
       "output_type": "pyout",
       "prompt_number": 23,
       "text": [
        "<class 'pandas.core.frame.DataFrame'>\n",
        "MultiIndex: 385 entries, (espn_similarity17, 2002, eigenvector2) to (predict_postseason, 2012, eigenvector)\n",
        "Data columns:\n",
        "value    385  non-null values\n",
        "dtypes: float64(1)"
       ]
      }
     ],
     "prompt_number": 23
    },
    {
     "cell_type": "heading",
     "level": 2,
     "metadata": {},
     "source": [
      "Making Rankings"
     ]
    },
    {
     "cell_type": "code",
     "collapsed": false,
     "input": [
      "results2 = []\n",
      "for name, ranker in rankers.iteritems():\n",
      "    for year in range(2002, 2013):\n",
      "        df = games[(games.SEAS == year)*(games.WEEK < 18)]\n",
      "        rank = ranker(df)\n",
      "        for rank, (team, value) in enumerate(sorted(rank.iteritems(), key=lambda x: x[1])):\n",
      "            results2.append({\n",
      "                'method': name,\n",
      "                'year': year,\n",
      "                'rank': rank+1\n",
      "                })\n",
      "all_rankings = pd.DataFrame(results2)\n",
      "all_rankings.to_csv('web/all.rankings.csv')"
     ],
     "language": "python",
     "metadata": {},
     "outputs": [],
     "prompt_number": 33
    },
    {
     "cell_type": "code",
     "collapsed": false,
     "input": [
      "all_rankings.method.unique()"
     ],
     "language": "python",
     "metadata": {},
     "outputs": [
      {
       "output_type": "pyout",
       "prompt_number": 39,
       "text": [
        "array([eigenvector2, espn, wins, optimal, btl, pythagorean wins,\n",
        "       eigenvector], dtype=object)"
       ]
      }
     ],
     "prompt_number": 39
    },
    {
     "cell_type": "code",
     "collapsed": false,
     "input": [
      "figsize(12, 8)\n",
      "fig = resdf.ix['descriptive'].unstack()['value'].plot()\n",
      "savefig('web/slides/img/desc.perf.png')"
     ],
     "language": "python",
     "metadata": {},
     "outputs": [
      {
       "output_type": "display_data",
       "png": "[encoded data removed]"
      }
     ],
     "prompt_number": 27
    },
    {
     "cell_type": "code",
     "collapsed": false,
     "input": [
      "fig = resdf.ix['espn_similarity8'].unstack()['value'].plot()\n",
      "savefig('web/slides/img/espn8.perf.png')"
     ],
     "language": "python",
     "metadata": {},
     "outputs": [
      {
       "output_type": "display_data",
       "png": "[encoded data removed]"
      }
     ],
     "prompt_number": 29
    },
    {
     "cell_type": "code",
     "collapsed": false,
     "input": [
      "fig = resdf.ix['espn_similarity17'].unstack()['value'].plot()\n",
      "savefig('web/slides/img/espn17.perf.png')"
     ],
     "language": "python",
     "metadata": {},
     "outputs": [
      {
       "output_type": "display_data",
       "png": "[encoded data removed]"
      }
     ],
     "prompt_number": 30
    },
    {
     "cell_type": "code",
     "collapsed": false,
     "input": [
      "fig = resdf.ix['predict_in_season'].unstack()['value'].plot()\n",
      "savefig('web/slides/img/season.perf.png')"
     ],
     "language": "python",
     "metadata": {},
     "outputs": [
      {
       "output_type": "display_data",
       "png": "[encoded data removed]"
      }
     ],
     "prompt_number": 31
    },
    {
     "cell_type": "code",
     "collapsed": false,
     "input": [
      "fig = resdf.ix['predict_postseason'].unstack()['value'].plot()\n",
      "savefig('web/slides/img/postseason.perf.png')"
     ],
     "language": "python",
     "metadata": {},
     "outputs": [
      {
       "output_type": "display_data",
       "png": "[encoded data removed]"
      }
     ],
     "prompt_number": 32
    },
    {
     "cell_type": "heading",
     "level": 2,
     "metadata": {},
     "source": [
      "2012 Ranking Tables"
     ]
    },
    {
     "cell_type": "code",
     "collapsed": false,
     "input": [
      "def emit_table(rank, fn):\n",
      "    ranked = [t for t, r in sorted(rank.iteritems(), key=lambda x: x[1])]\n",
      "    with open(fn, 'w') as f:\n",
      "        f.write('<table class=\"ranking-table\" style=\"margin-left: auto; margin-right: auto;\">')\n",
      "        \n",
      "        for i in range(8):\n",
      "            f.write('<tr>')\n",
      "            for j in range(4):\n",
      "                ix = i + j*8\n",
      "                f.write('<td>%i</td><td><img src=\"../logos/%s.png\" width=70 height=35 style=\"border:none;\"/></td>' % (ix+1, ranked[ix]))\n",
      "            f.write('</tr>')\n",
      "        f.write('</table>')"
     ],
     "language": "python",
     "metadata": {},
     "outputs": [],
     "prompt_number": 30
    },
    {
     "cell_type": "code",
     "collapsed": false,
     "input": [
      "emit_table(pythagorean_wins(g12), 'web/slides/pythagorean.html')\n",
      "emit_table(eigen_rank_scores_nonlinear(g12), 'web/slides/eigenvector.html')\n",
      "emit_table(logit_rank(g12), 'web/slides/btl.html')\n",
      "emit_table(optimal_rank(g12), 'web/slides/optimal.html')"
     ],
     "language": "python",
     "metadata": {},
     "outputs": [],
     "prompt_number": 34
    },
    {
     "cell_type": "heading",
     "level": 2,
     "metadata": {},
     "source": [
      "NFC East Matrix Example"
     ]
    },
    {
     "cell_type": "code",
     "collapsed": false,
     "input": [
      "n = A.shape[1]\n",
      "w,v = np.linalg.eig(A)\n",
      "abs(np.real(v[:n,0]) / np.linalg.norm(v[:n,0],1))\n",
      "\n",
      "A = np.matrix(\"[0 1 2 0; 1 0 1 1; 0 1 0 0; 2 1 2 0]\")\n",
      "mat = A.copy()\n",
      "for i in range(100):\n",
      "    mat = mat.dot(A)\n",
      "print mat.dot(np.ones(4))"
     ],
     "language": "python",
     "metadata": {},
     "outputs": [
      {
       "output_type": "stream",
       "stream": "stdout",
       "text": [
        "[[  7.35615860e+18  -1.12086486e+19   7.02600656e+18  -1.08784965e+19]]\n"
       ]
      }
     ],
     "prompt_number": 132
    }
   ],
   "metadata": {}
  }
 ]
}